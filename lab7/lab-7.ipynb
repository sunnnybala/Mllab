{
 "cells": [
  {
   "cell_type": "markdown",
   "id": "eb35de9a",
   "metadata": {},
   "source": [
    "Q1"
   ]
  },
  {
   "cell_type": "markdown",
   "id": "d8402f9a",
   "metadata": {},
   "source": [
    "1. Implement in python program of the following problems using Bayes Theorem.\n",
    "a) Of the students in the college, 60% of the students reside in the hostel and 40% of the students are day\n",
    "scholars. Previous year results report that 30% of all students who stay in the hostel scored A Grade and 20%\n",
    "of day scholars scored A grade. At the end of the year, one student is chosen at random and found that he/she\n",
    "has an A grade. What is the probability that the student is a hosteler?\n",
    "b) Suppose you're testing for a rare disease, and you have the following information:\n",
    " The disease has a prevalence of 0.01 (1% of the population has the disease).\n",
    " The test is not perfect:\n",
    " The test correctly identifies the disease (true positive) 99% of the time (sensitivity).\n",
    " The test incorrectly indicates the disease (false positive) 2% of the time (1 - specificity).\n",
    "Calculate the probability of having the disease given a positive test result using Bayes' theorem."
   ]
  },
  {
   "cell_type": "code",
   "execution_count": 3,
   "id": "51163d28",
   "metadata": {},
   "outputs": [
    {
     "name": "stdout",
     "output_type": "stream",
     "text": [
      "Probability that the student is a hosteler given A grade : 0.6923076923076923\n"
     ]
    }
   ],
   "source": [
    "p_hostel = 0.6\n",
    "p_ds = 0.4\n",
    "p_A_hostel = 0.3\n",
    "p_A_ds = 0.2\n",
    "p_hostel_A = 0\n",
    "p_A = (p_A_hostel*p_hostel)+(p_A_ds*p_ds)\n",
    "p_hostel_A = (p_A_hostel*p_hostel)/p_A\n",
    "print(f\"Probability that the student is a hosteler given A grade : {p_hostel_A}\")"
   ]
  },
  {
   "cell_type": "code",
   "execution_count": 4,
   "id": "6d0ff937",
   "metadata": {},
   "outputs": [
    {
     "name": "stdout",
     "output_type": "stream",
     "text": [
      "probability of having the disease given a positive test result : 0.3333333333333333\n"
     ]
    }
   ],
   "source": [
    "p_dis = 0.01\n",
    "p_nd = 0.99\n",
    "sens = 0.99\n",
    "spec = 0.02\n",
    "p_pos_dis = sens\n",
    "p_pos = ((p_pos_dis)*p_dis) + ((spec)*p_nd)\n",
    "p_dis_pos = (p_pos_dis*p_dis)/p_pos\n",
    "print(f\"probability of having the disease given a positive test result : {p_dis_pos}\")"
   ]
  },
  {
   "cell_type": "markdown",
   "id": "3ae9a1bb",
   "metadata": {},
   "source": [
    "Q2"
   ]
  },
  {
   "cell_type": "markdown",
   "id": "a2f4cb3a",
   "metadata": {},
   "source": [
    "Develop a function python code for Naïve Bayes classifier from scratch without using scikit-learn library,\n",
    "to predict whether the buyer should buy computer or not. Consider a following sample training dataset stored\n",
    "in a CSV file containing information about following buyer conditions (such as “<=30,” “medium,” “Yes,”\n",
    "and “fair”) and whether the player played golf (“Yes” or “No”)."
   ]
  },
  {
   "cell_type": "code",
   "execution_count": 5,
   "id": "9d372115",
   "metadata": {},
   "outputs": [
    {
     "ename": "FileNotFoundError",
     "evalue": "[Errno 2] No such file or directory: 'data.csv'",
     "output_type": "error",
     "traceback": [
      "\u001b[0;31m---------------------------------------------------------------------------\u001b[0m",
      "\u001b[0;31mFileNotFoundError\u001b[0m                         Traceback (most recent call last)",
      "Cell \u001b[0;32mIn[5], line 3\u001b[0m\n\u001b[1;32m      1\u001b[0m \u001b[38;5;28;01mimport\u001b[39;00m \u001b[38;5;21;01mnumpy\u001b[39;00m \u001b[38;5;28;01mas\u001b[39;00m \u001b[38;5;21;01mnp\u001b[39;00m \n\u001b[1;32m      2\u001b[0m \u001b[38;5;28;01mimport\u001b[39;00m \u001b[38;5;21;01mpandas\u001b[39;00m \u001b[38;5;28;01mas\u001b[39;00m \u001b[38;5;21;01mpd\u001b[39;00m \n\u001b[0;32m----> 3\u001b[0m df \u001b[38;5;241m=\u001b[39m \u001b[43mpd\u001b[49m\u001b[38;5;241;43m.\u001b[39;49m\u001b[43mread_csv\u001b[49m\u001b[43m(\u001b[49m\u001b[38;5;124;43m\"\u001b[39;49m\u001b[38;5;124;43mdata.csv\u001b[39;49m\u001b[38;5;124;43m\"\u001b[39;49m\u001b[43m)\u001b[49m\n\u001b[1;32m      4\u001b[0m \u001b[38;5;28mprint\u001b[39m(df)\n",
      "File \u001b[0;32m/usr/lib/python3/dist-packages/pandas/io/parsers/readers.py:948\u001b[0m, in \u001b[0;36mread_csv\u001b[0;34m(filepath_or_buffer, sep, delimiter, header, names, index_col, usecols, dtype, engine, converters, true_values, false_values, skipinitialspace, skiprows, skipfooter, nrows, na_values, keep_default_na, na_filter, verbose, skip_blank_lines, parse_dates, infer_datetime_format, keep_date_col, date_parser, date_format, dayfirst, cache_dates, iterator, chunksize, compression, thousands, decimal, lineterminator, quotechar, quoting, doublequote, escapechar, comment, encoding, encoding_errors, dialect, on_bad_lines, delim_whitespace, low_memory, memory_map, float_precision, storage_options, dtype_backend)\u001b[0m\n\u001b[1;32m    935\u001b[0m kwds_defaults \u001b[38;5;241m=\u001b[39m _refine_defaults_read(\n\u001b[1;32m    936\u001b[0m     dialect,\n\u001b[1;32m    937\u001b[0m     delimiter,\n\u001b[0;32m   (...)\u001b[0m\n\u001b[1;32m    944\u001b[0m     dtype_backend\u001b[38;5;241m=\u001b[39mdtype_backend,\n\u001b[1;32m    945\u001b[0m )\n\u001b[1;32m    946\u001b[0m kwds\u001b[38;5;241m.\u001b[39mupdate(kwds_defaults)\n\u001b[0;32m--> 948\u001b[0m \u001b[38;5;28;01mreturn\u001b[39;00m \u001b[43m_read\u001b[49m\u001b[43m(\u001b[49m\u001b[43mfilepath_or_buffer\u001b[49m\u001b[43m,\u001b[49m\u001b[43m \u001b[49m\u001b[43mkwds\u001b[49m\u001b[43m)\u001b[49m\n",
      "File \u001b[0;32m/usr/lib/python3/dist-packages/pandas/io/parsers/readers.py:611\u001b[0m, in \u001b[0;36m_read\u001b[0;34m(filepath_or_buffer, kwds)\u001b[0m\n\u001b[1;32m    608\u001b[0m _validate_names(kwds\u001b[38;5;241m.\u001b[39mget(\u001b[38;5;124m\"\u001b[39m\u001b[38;5;124mnames\u001b[39m\u001b[38;5;124m\"\u001b[39m, \u001b[38;5;28;01mNone\u001b[39;00m))\n\u001b[1;32m    610\u001b[0m \u001b[38;5;66;03m# Create the parser.\u001b[39;00m\n\u001b[0;32m--> 611\u001b[0m parser \u001b[38;5;241m=\u001b[39m \u001b[43mTextFileReader\u001b[49m\u001b[43m(\u001b[49m\u001b[43mfilepath_or_buffer\u001b[49m\u001b[43m,\u001b[49m\u001b[43m \u001b[49m\u001b[38;5;241;43m*\u001b[39;49m\u001b[38;5;241;43m*\u001b[39;49m\u001b[43mkwds\u001b[49m\u001b[43m)\u001b[49m\n\u001b[1;32m    613\u001b[0m \u001b[38;5;28;01mif\u001b[39;00m chunksize \u001b[38;5;129;01mor\u001b[39;00m iterator:\n\u001b[1;32m    614\u001b[0m     \u001b[38;5;28;01mreturn\u001b[39;00m parser\n",
      "File \u001b[0;32m/usr/lib/python3/dist-packages/pandas/io/parsers/readers.py:1448\u001b[0m, in \u001b[0;36mTextFileReader.__init__\u001b[0;34m(self, f, engine, **kwds)\u001b[0m\n\u001b[1;32m   1445\u001b[0m     \u001b[38;5;28mself\u001b[39m\u001b[38;5;241m.\u001b[39moptions[\u001b[38;5;124m\"\u001b[39m\u001b[38;5;124mhas_index_names\u001b[39m\u001b[38;5;124m\"\u001b[39m] \u001b[38;5;241m=\u001b[39m kwds[\u001b[38;5;124m\"\u001b[39m\u001b[38;5;124mhas_index_names\u001b[39m\u001b[38;5;124m\"\u001b[39m]\n\u001b[1;32m   1447\u001b[0m \u001b[38;5;28mself\u001b[39m\u001b[38;5;241m.\u001b[39mhandles: IOHandles \u001b[38;5;241m|\u001b[39m \u001b[38;5;28;01mNone\u001b[39;00m \u001b[38;5;241m=\u001b[39m \u001b[38;5;28;01mNone\u001b[39;00m\n\u001b[0;32m-> 1448\u001b[0m \u001b[38;5;28mself\u001b[39m\u001b[38;5;241m.\u001b[39m_engine \u001b[38;5;241m=\u001b[39m \u001b[38;5;28;43mself\u001b[39;49m\u001b[38;5;241;43m.\u001b[39;49m\u001b[43m_make_engine\u001b[49m\u001b[43m(\u001b[49m\u001b[43mf\u001b[49m\u001b[43m,\u001b[49m\u001b[43m \u001b[49m\u001b[38;5;28;43mself\u001b[39;49m\u001b[38;5;241;43m.\u001b[39;49m\u001b[43mengine\u001b[49m\u001b[43m)\u001b[49m\n",
      "File \u001b[0;32m/usr/lib/python3/dist-packages/pandas/io/parsers/readers.py:1705\u001b[0m, in \u001b[0;36mTextFileReader._make_engine\u001b[0;34m(self, f, engine)\u001b[0m\n\u001b[1;32m   1703\u001b[0m     \u001b[38;5;28;01mif\u001b[39;00m \u001b[38;5;124m\"\u001b[39m\u001b[38;5;124mb\u001b[39m\u001b[38;5;124m\"\u001b[39m \u001b[38;5;129;01mnot\u001b[39;00m \u001b[38;5;129;01min\u001b[39;00m mode:\n\u001b[1;32m   1704\u001b[0m         mode \u001b[38;5;241m+\u001b[39m\u001b[38;5;241m=\u001b[39m \u001b[38;5;124m\"\u001b[39m\u001b[38;5;124mb\u001b[39m\u001b[38;5;124m\"\u001b[39m\n\u001b[0;32m-> 1705\u001b[0m \u001b[38;5;28mself\u001b[39m\u001b[38;5;241m.\u001b[39mhandles \u001b[38;5;241m=\u001b[39m \u001b[43mget_handle\u001b[49m\u001b[43m(\u001b[49m\n\u001b[1;32m   1706\u001b[0m \u001b[43m    \u001b[49m\u001b[43mf\u001b[49m\u001b[43m,\u001b[49m\n\u001b[1;32m   1707\u001b[0m \u001b[43m    \u001b[49m\u001b[43mmode\u001b[49m\u001b[43m,\u001b[49m\n\u001b[1;32m   1708\u001b[0m \u001b[43m    \u001b[49m\u001b[43mencoding\u001b[49m\u001b[38;5;241;43m=\u001b[39;49m\u001b[38;5;28;43mself\u001b[39;49m\u001b[38;5;241;43m.\u001b[39;49m\u001b[43moptions\u001b[49m\u001b[38;5;241;43m.\u001b[39;49m\u001b[43mget\u001b[49m\u001b[43m(\u001b[49m\u001b[38;5;124;43m\"\u001b[39;49m\u001b[38;5;124;43mencoding\u001b[39;49m\u001b[38;5;124;43m\"\u001b[39;49m\u001b[43m,\u001b[49m\u001b[43m \u001b[49m\u001b[38;5;28;43;01mNone\u001b[39;49;00m\u001b[43m)\u001b[49m\u001b[43m,\u001b[49m\n\u001b[1;32m   1709\u001b[0m \u001b[43m    \u001b[49m\u001b[43mcompression\u001b[49m\u001b[38;5;241;43m=\u001b[39;49m\u001b[38;5;28;43mself\u001b[39;49m\u001b[38;5;241;43m.\u001b[39;49m\u001b[43moptions\u001b[49m\u001b[38;5;241;43m.\u001b[39;49m\u001b[43mget\u001b[49m\u001b[43m(\u001b[49m\u001b[38;5;124;43m\"\u001b[39;49m\u001b[38;5;124;43mcompression\u001b[39;49m\u001b[38;5;124;43m\"\u001b[39;49m\u001b[43m,\u001b[49m\u001b[43m \u001b[49m\u001b[38;5;28;43;01mNone\u001b[39;49;00m\u001b[43m)\u001b[49m\u001b[43m,\u001b[49m\n\u001b[1;32m   1710\u001b[0m \u001b[43m    \u001b[49m\u001b[43mmemory_map\u001b[49m\u001b[38;5;241;43m=\u001b[39;49m\u001b[38;5;28;43mself\u001b[39;49m\u001b[38;5;241;43m.\u001b[39;49m\u001b[43moptions\u001b[49m\u001b[38;5;241;43m.\u001b[39;49m\u001b[43mget\u001b[49m\u001b[43m(\u001b[49m\u001b[38;5;124;43m\"\u001b[39;49m\u001b[38;5;124;43mmemory_map\u001b[39;49m\u001b[38;5;124;43m\"\u001b[39;49m\u001b[43m,\u001b[49m\u001b[43m \u001b[49m\u001b[38;5;28;43;01mFalse\u001b[39;49;00m\u001b[43m)\u001b[49m\u001b[43m,\u001b[49m\n\u001b[1;32m   1711\u001b[0m \u001b[43m    \u001b[49m\u001b[43mis_text\u001b[49m\u001b[38;5;241;43m=\u001b[39;49m\u001b[43mis_text\u001b[49m\u001b[43m,\u001b[49m\n\u001b[1;32m   1712\u001b[0m \u001b[43m    \u001b[49m\u001b[43merrors\u001b[49m\u001b[38;5;241;43m=\u001b[39;49m\u001b[38;5;28;43mself\u001b[39;49m\u001b[38;5;241;43m.\u001b[39;49m\u001b[43moptions\u001b[49m\u001b[38;5;241;43m.\u001b[39;49m\u001b[43mget\u001b[49m\u001b[43m(\u001b[49m\u001b[38;5;124;43m\"\u001b[39;49m\u001b[38;5;124;43mencoding_errors\u001b[39;49m\u001b[38;5;124;43m\"\u001b[39;49m\u001b[43m,\u001b[49m\u001b[43m \u001b[49m\u001b[38;5;124;43m\"\u001b[39;49m\u001b[38;5;124;43mstrict\u001b[39;49m\u001b[38;5;124;43m\"\u001b[39;49m\u001b[43m)\u001b[49m\u001b[43m,\u001b[49m\n\u001b[1;32m   1713\u001b[0m \u001b[43m    \u001b[49m\u001b[43mstorage_options\u001b[49m\u001b[38;5;241;43m=\u001b[39;49m\u001b[38;5;28;43mself\u001b[39;49m\u001b[38;5;241;43m.\u001b[39;49m\u001b[43moptions\u001b[49m\u001b[38;5;241;43m.\u001b[39;49m\u001b[43mget\u001b[49m\u001b[43m(\u001b[49m\u001b[38;5;124;43m\"\u001b[39;49m\u001b[38;5;124;43mstorage_options\u001b[39;49m\u001b[38;5;124;43m\"\u001b[39;49m\u001b[43m,\u001b[49m\u001b[43m \u001b[49m\u001b[38;5;28;43;01mNone\u001b[39;49;00m\u001b[43m)\u001b[49m\u001b[43m,\u001b[49m\n\u001b[1;32m   1714\u001b[0m \u001b[43m\u001b[49m\u001b[43m)\u001b[49m\n\u001b[1;32m   1715\u001b[0m \u001b[38;5;28;01massert\u001b[39;00m \u001b[38;5;28mself\u001b[39m\u001b[38;5;241m.\u001b[39mhandles \u001b[38;5;129;01mis\u001b[39;00m \u001b[38;5;129;01mnot\u001b[39;00m \u001b[38;5;28;01mNone\u001b[39;00m\n\u001b[1;32m   1716\u001b[0m f \u001b[38;5;241m=\u001b[39m \u001b[38;5;28mself\u001b[39m\u001b[38;5;241m.\u001b[39mhandles\u001b[38;5;241m.\u001b[39mhandle\n",
      "File \u001b[0;32m/usr/lib/python3/dist-packages/pandas/io/common.py:863\u001b[0m, in \u001b[0;36mget_handle\u001b[0;34m(path_or_buf, mode, encoding, compression, memory_map, is_text, errors, storage_options)\u001b[0m\n\u001b[1;32m    858\u001b[0m \u001b[38;5;28;01melif\u001b[39;00m \u001b[38;5;28misinstance\u001b[39m(handle, \u001b[38;5;28mstr\u001b[39m):\n\u001b[1;32m    859\u001b[0m     \u001b[38;5;66;03m# Check whether the filename is to be opened in binary mode.\u001b[39;00m\n\u001b[1;32m    860\u001b[0m     \u001b[38;5;66;03m# Binary mode does not support 'encoding' and 'newline'.\u001b[39;00m\n\u001b[1;32m    861\u001b[0m     \u001b[38;5;28;01mif\u001b[39;00m ioargs\u001b[38;5;241m.\u001b[39mencoding \u001b[38;5;129;01mand\u001b[39;00m \u001b[38;5;124m\"\u001b[39m\u001b[38;5;124mb\u001b[39m\u001b[38;5;124m\"\u001b[39m \u001b[38;5;129;01mnot\u001b[39;00m \u001b[38;5;129;01min\u001b[39;00m ioargs\u001b[38;5;241m.\u001b[39mmode:\n\u001b[1;32m    862\u001b[0m         \u001b[38;5;66;03m# Encoding\u001b[39;00m\n\u001b[0;32m--> 863\u001b[0m         handle \u001b[38;5;241m=\u001b[39m \u001b[38;5;28;43mopen\u001b[39;49m\u001b[43m(\u001b[49m\n\u001b[1;32m    864\u001b[0m \u001b[43m            \u001b[49m\u001b[43mhandle\u001b[49m\u001b[43m,\u001b[49m\n\u001b[1;32m    865\u001b[0m \u001b[43m            \u001b[49m\u001b[43mioargs\u001b[49m\u001b[38;5;241;43m.\u001b[39;49m\u001b[43mmode\u001b[49m\u001b[43m,\u001b[49m\n\u001b[1;32m    866\u001b[0m \u001b[43m            \u001b[49m\u001b[43mencoding\u001b[49m\u001b[38;5;241;43m=\u001b[39;49m\u001b[43mioargs\u001b[49m\u001b[38;5;241;43m.\u001b[39;49m\u001b[43mencoding\u001b[49m\u001b[43m,\u001b[49m\n\u001b[1;32m    867\u001b[0m \u001b[43m            \u001b[49m\u001b[43merrors\u001b[49m\u001b[38;5;241;43m=\u001b[39;49m\u001b[43merrors\u001b[49m\u001b[43m,\u001b[49m\n\u001b[1;32m    868\u001b[0m \u001b[43m            \u001b[49m\u001b[43mnewline\u001b[49m\u001b[38;5;241;43m=\u001b[39;49m\u001b[38;5;124;43m\"\u001b[39;49m\u001b[38;5;124;43m\"\u001b[39;49m\u001b[43m,\u001b[49m\n\u001b[1;32m    869\u001b[0m \u001b[43m        \u001b[49m\u001b[43m)\u001b[49m\n\u001b[1;32m    870\u001b[0m     \u001b[38;5;28;01melse\u001b[39;00m:\n\u001b[1;32m    871\u001b[0m         \u001b[38;5;66;03m# Binary mode\u001b[39;00m\n\u001b[1;32m    872\u001b[0m         handle \u001b[38;5;241m=\u001b[39m \u001b[38;5;28mopen\u001b[39m(handle, ioargs\u001b[38;5;241m.\u001b[39mmode)\n",
      "\u001b[0;31mFileNotFoundError\u001b[0m: [Errno 2] No such file or directory: 'data.csv'"
     ]
    }
   ],
   "source": [
    "import numpy as np \n",
    "import pandas as pd \n",
    "df = pd.read_csv(\"data.csv\")\n",
    "print(df)"
   ]
  },
  {
   "cell_type": "code",
   "execution_count": 42,
   "id": "aeff09b3",
   "metadata": {},
   "outputs": [],
   "source": [
    "count = 0\n",
    "tot = 14\n",
    "x = df['buys_computer'].values\n",
    "for i in x:\n",
    "    if i=='yes':\n",
    "        count = count + 1\n",
    "count_yes = count\n",
    "p_yes = count/tot\n",
    "\n",
    "y = df['age'].values\n",
    "count = 0\n",
    "for i,j in zip(y,x):\n",
    "    if i=='<=30' and j=='yes':\n",
    "        count = count + 1\n",
    "p_c1_yes = count/count_yes\n",
    "\n",
    "z = df['income'].values\n",
    "count = 0\n",
    "for i,j in zip(z,x):\n",
    "    if i=='medium' and j=='yes':\n",
    "        count = count+1\n",
    "p_c2_yes = count/count_yes\n",
    "\n",
    "a = df['student'].values\n",
    "count = 0\n",
    "for i,j in zip(a,x):\n",
    "    if i=='yes' and j=='yes':\n",
    "        count = count+1\n",
    "p_c3_yes = count/count_yes\n",
    "\n",
    "b = df['credit_rating'].values\n",
    "count = 0\n",
    "for i,j in zip(b,x):\n",
    "    if i=='fair' and j=='yes':\n",
    "        count = count+1\n",
    "p_c4_yes = count/count_yes"
   ]
  },
  {
   "cell_type": "code",
   "execution_count": 43,
   "id": "971db64d",
   "metadata": {},
   "outputs": [
    {
     "name": "stdout",
     "output_type": "stream",
     "text": [
      "Probability that the player buys computer  : 0.028218694885361547\n"
     ]
    }
   ],
   "source": [
    "p_yes_E = 0\n",
    "p_E_yes = (p_c1_yes*p_c2_yes*p_c3_yes*p_c4_yes)\n",
    "p_yes_E = p_E_yes*p_yes\n",
    "print(f\"Probability that the player buys computer  : {p_yes_E}\")"
   ]
  },
  {
   "cell_type": "code",
   "execution_count": 44,
   "id": "76202acb",
   "metadata": {},
   "outputs": [],
   "source": [
    "count = 0\n",
    "for i in x:\n",
    "    if i=='no':\n",
    "        count = count + 1\n",
    "count_no = count\n",
    "p_no = count/tot\n",
    "\n",
    "y = df['age'].values\n",
    "count = 0\n",
    "for i,j in zip(y,x):\n",
    "    if i=='<=30' and j=='no':\n",
    "        count = count + 1\n",
    "p_c1_no = count/count_no\n",
    "\n",
    "z = df['income'].values\n",
    "count = 0\n",
    "for i,j in zip(z,x):\n",
    "    if i=='medium' and j=='no':\n",
    "        count = count+1\n",
    "p_c2_no = count/count_no\n",
    "\n",
    "a = df['student'].values\n",
    "count = 0\n",
    "for i,j in zip(a,x):\n",
    "    if i=='yes' and j=='no':\n",
    "        count = count+1\n",
    "p_c3_no = count/count_no\n",
    "\n",
    "b = df['credit_rating'].values\n",
    "count = 0\n",
    "for i,j in zip(b,x):\n",
    "    if i=='fair' and j=='no':\n",
    "        count = count+1\n",
    "p_c4_no = count/count_no"
   ]
  },
  {
   "cell_type": "code",
   "execution_count": 45,
   "id": "217e83cd",
   "metadata": {},
   "outputs": [
    {
     "name": "stdout",
     "output_type": "stream",
     "text": [
      "Probability that the player didn't buy computer : 0.006857142857142858\n"
     ]
    }
   ],
   "source": [
    "p_no_E = 0\n",
    "p_E_no = (p_c1_no*p_c2_no*p_c3_no*p_c4_no)\n",
    "p_no_E = p_E_no*p_no\n",
    "print(f\"Probability that the player didn't buy computer : {p_no_E}\")"
   ]
  },
  {
   "cell_type": "code",
   "execution_count": 46,
   "id": "76956d41",
   "metadata": {},
   "outputs": [
    {
     "name": "stdout",
     "output_type": "stream",
     "text": [
      "Classification : Buys computer \n"
     ]
    }
   ],
   "source": [
    "if(p_yes_E >= p_no_E):\n",
    "    print(\"Classification : Buys computer \")\n",
    "else:\n",
    "    print(\"Classification : Didn't buy computer \")"
   ]
  },
  {
   "cell_type": "markdown",
   "id": "9964304e",
   "metadata": {},
   "source": [
    "Q3"
   ]
  },
  {
   "cell_type": "markdown",
   "id": "3b95a246",
   "metadata": {},
   "source": [
    "Write a Python function to implement the Naive Bayes classifier without using the scikit-learn library for the\n",
    "following sample training dataset stored as a .CSV file. Calculate the accuracy, precision, and recall for your train/test\n",
    "dataset.\n",
    "a. Build a classifier that determines whether a text is about sports or not.\n",
    "b. Determine which tag the sentence \"A very close game\" belongs to."
   ]
  },
  {
   "cell_type": "code",
   "execution_count": 18,
   "id": "0ef82907",
   "metadata": {},
   "outputs": [
    {
     "name": "stdout",
     "output_type": "stream",
     "text": [
      "                           text tag\n",
      "0                  a great game   S\n",
      "1         the election was over  NS\n",
      "2              very clean match   S\n",
      "3  a clean but forgettable game   S\n",
      "4       it was a close election  NS\n"
     ]
    }
   ],
   "source": [
    "df = pd.read_csv(\"data2.csv\")\n",
    "print(df)"
   ]
  },
  {
   "cell_type": "code",
   "execution_count": 19,
   "id": "8adfd8d7",
   "metadata": {},
   "outputs": [],
   "source": [
    "x = df['text'].values\n",
    "y = df['tag'].values\n",
    "s_word_count = 0\n",
    "ns_word_count = 0\n",
    "for i,j in zip(x,y):\n",
    "    if j=='S':\n",
    "        w = i.split()\n",
    "        s_word_count = s_word_count + len(w)\n",
    "    else:\n",
    "        w = i.split()\n",
    "        ns_word_count = ns_word_count + len(w)"
   ]
  },
  {
   "cell_type": "code",
   "execution_count": 28,
   "id": "595a6246",
   "metadata": {},
   "outputs": [],
   "source": [
    "tot = 14\n",
    "def find_word_s(word):\n",
    "    count = 0\n",
    "    for i,j in zip(x,y):\n",
    "        w = i.split()\n",
    "        if j=='S' and word in w:\n",
    "            count = count + 1\n",
    "    if count == 0:\n",
    "        return 1/(s_word_count+tot)\n",
    "    else:\n",
    "        return (count+1)/(s_word_count+tot) \n",
    "\n",
    "def find_word_ns(word):\n",
    "    count = 0\n",
    "    for i,j in zip(x,y):\n",
    "        w = i.split()\n",
    "        if j=='NS' and word in w:\n",
    "            count = count + 1\n",
    "    if count == 0:\n",
    "        return 1/(ns_word_count+tot)\n",
    "    else:\n",
    "        return (count+1)/(ns_word_count+tot) \n",
    "    "
   ]
  },
  {
   "cell_type": "code",
   "execution_count": 29,
   "id": "d9904c8b",
   "metadata": {},
   "outputs": [
    {
     "name": "stdout",
     "output_type": "stream",
     "text": [
      "[0.12, 0.08, 0.04, 0.12]\n",
      "[0.08695652173913043, 0.043478260869565216, 0.08695652173913043, 0.043478260869565216]\n"
     ]
    }
   ],
   "source": [
    "stri = 'a very close game'\n",
    "sent = stri.split()\n",
    "\n",
    "p_word_s = [find_word_s(i) for i in sent]\n",
    "print(p_word_s)\n",
    "p_word_ns = [find_word_ns(i) for i in sent]\n",
    "print(p_word_ns)"
   ]
  },
  {
   "cell_type": "code",
   "execution_count": 31,
   "id": "409905cc",
   "metadata": {},
   "outputs": [],
   "source": [
    "s_count = 0\n",
    "ns_count = 0\n",
    "for i in y:\n",
    "    if i=='S':\n",
    "        s_count = s_count + 1\n",
    "    else:\n",
    "        ns_count = ns_count + 1\n",
    "p_s = s_count/len(y)\n",
    "p_ns = ns_count/len(y)"
   ]
  },
  {
   "cell_type": "code",
   "execution_count": 33,
   "id": "26e65579",
   "metadata": {},
   "outputs": [
    {
     "name": "stdout",
     "output_type": "stream",
     "text": [
      "2.7647999999999993e-05\n",
      "5.7175324559303314e-06\n"
     ]
    }
   ],
   "source": [
    "p_text_s = 1\n",
    "for i in p_word_s:\n",
    "    p_text_s = p_text_s * i\n",
    "    \n",
    "p_s_text = p_text_s*p_s\n",
    "print(p_s_text)\n",
    "\n",
    "p_text_ns = 1\n",
    "for i in p_word_ns:\n",
    "    p_text_ns = p_text_ns * i\n",
    "    \n",
    "p_ns_text = p_text_ns*p_ns\n",
    "print(p_ns_text)"
   ]
  },
  {
   "cell_type": "code",
   "execution_count": 35,
   "id": "27cbd9fa",
   "metadata": {},
   "outputs": [
    {
     "name": "stdout",
     "output_type": "stream",
     "text": [
      "Classification : Sports\n"
     ]
    }
   ],
   "source": [
    "if(p_s_text >= p_ns_text):\n",
    "    print(\"Classification : Sports\")\n",
    "else:\n",
    "    print(\"Classification : Not Sports\")"
   ]
  },
  {
   "cell_type": "code",
   "execution_count": null,
   "id": "b27ff724",
   "metadata": {},
   "outputs": [],
   "source": []
  }
 ],
 "metadata": {
  "kernelspec": {
   "display_name": "Python 3 (ipykernel)",
   "language": "python",
   "name": "python3"
  },
  "language_info": {
   "codemirror_mode": {
    "name": "ipython",
    "version": 3
   },
   "file_extension": ".py",
   "mimetype": "text/x-python",
   "name": "python",
   "nbconvert_exporter": "python",
   "pygments_lexer": "ipython3",
   "version": "3.12.3"
  }
 },
 "nbformat": 4,
 "nbformat_minor": 5
}
