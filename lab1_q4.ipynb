{
 "cells": [
  {
   "cell_type": "code",
   "execution_count": 1,
   "id": "0b507aa8",
   "metadata": {},
   "outputs": [],
   "source": [
    "import numpy as np"
   ]
  },
  {
   "cell_type": "code",
   "execution_count": 2,
   "id": "85fbe627",
   "metadata": {},
   "outputs": [],
   "source": [
    "sample = np.arange(100).reshape(5,-1)"
   ]
  },
  {
   "cell_type": "code",
   "execution_count": 5,
   "id": "fa9096e6",
   "metadata": {},
   "outputs": [],
   "source": [
    "answer = sample[:,:4]"
   ]
  },
  {
   "cell_type": "code",
   "execution_count": 6,
   "id": "2f5a680d",
   "metadata": {},
   "outputs": [
    {
     "name": "stdout",
     "output_type": "stream",
     "text": [
      "[[ 0  1  2  3]\n",
      " [20 21 22 23]\n",
      " [40 41 42 43]\n",
      " [60 61 62 63]\n",
      " [80 81 82 83]]\n"
     ]
    }
   ],
   "source": [
    "print(answer)"
   ]
  },
  {
   "cell_type": "code",
   "execution_count": null,
   "id": "a0951ecb",
   "metadata": {},
   "outputs": [],
   "source": []
  }
 ],
 "metadata": {
  "kernelspec": {
   "display_name": "Python 3 (ipykernel)",
   "language": "python",
   "name": "python3"
  },
  "language_info": {
   "codemirror_mode": {
    "name": "ipython",
    "version": 3
   },
   "file_extension": ".py",
   "mimetype": "text/x-python",
   "name": "python",
   "nbconvert_exporter": "python",
   "pygments_lexer": "ipython3",
   "version": "3.12.3"
  }
 },
 "nbformat": 4,
 "nbformat_minor": 5
}
