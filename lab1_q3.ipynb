{
 "cells": [
  {
   "cell_type": "code",
   "execution_count": 24,
   "id": "ec983be3",
   "metadata": {},
   "outputs": [],
   "source": [
    "import numpy as np"
   ]
  },
  {
   "cell_type": "code",
   "execution_count": 25,
   "id": "e3523836",
   "metadata": {},
   "outputs": [],
   "source": [
    "x = np.array([21, 64, 86, 22, 74, 55, 81, 79, 90, 89]) \n",
    "y = np.array([21, 7, 3, 45, 10, 29, 55, 4, 37, 18])"
   ]
  },
  {
   "cell_type": "code",
   "execution_count": 26,
   "id": "568c1e52",
   "metadata": {},
   "outputs": [],
   "source": [
    "it = min(len(x), len(y)) "
   ]
  },
  {
   "cell_type": "code",
   "execution_count": 27,
   "id": "0d98dd07",
   "metadata": {},
   "outputs": [
    {
     "name": "stdout",
     "output_type": "stream",
     "text": [
      "10\n"
     ]
    }
   ],
   "source": [
    "print(it)"
   ]
  },
  {
   "cell_type": "code",
   "execution_count": 28,
   "id": "7e778236",
   "metadata": {},
   "outputs": [],
   "source": [
    "answer_1 = []\n",
    "answer_2 = []"
   ]
  },
  {
   "cell_type": "code",
   "execution_count": 29,
   "id": "b206eded",
   "metadata": {},
   "outputs": [],
   "source": [
    "for i in range(it):\n",
    "    if x[i]>y[i]:\n",
    "        answer_1.append(i)\n",
    "    elif x[i]==y[i]:\n",
    "        answer_2.append(i)"
   ]
  },
  {
   "cell_type": "code",
   "execution_count": 30,
   "id": "2d663e24",
   "metadata": {},
   "outputs": [
    {
     "data": {
      "text/plain": [
       "array([1, 2, 4, 5, 6, 7, 8, 9])"
      ]
     },
     "execution_count": 30,
     "metadata": {},
     "output_type": "execute_result"
    }
   ],
   "source": [
    "np.array(answer_1)"
   ]
  },
  {
   "cell_type": "code",
   "execution_count": 31,
   "id": "ab3c2f53",
   "metadata": {},
   "outputs": [
    {
     "data": {
      "text/plain": [
       "array([0])"
      ]
     },
     "execution_count": 31,
     "metadata": {},
     "output_type": "execute_result"
    }
   ],
   "source": [
    "np.array(answer_2)"
   ]
  },
  {
   "cell_type": "code",
   "execution_count": null,
   "id": "b7d2d6bf",
   "metadata": {},
   "outputs": [],
   "source": []
  }
 ],
 "metadata": {
  "kernelspec": {
   "display_name": "Python 3 (ipykernel)",
   "language": "python",
   "name": "python3"
  },
  "language_info": {
   "codemirror_mode": {
    "name": "ipython",
    "version": 3
   },
   "file_extension": ".py",
   "mimetype": "text/x-python",
   "name": "python",
   "nbconvert_exporter": "python",
   "pygments_lexer": "ipython3",
   "version": "3.12.3"
  }
 },
 "nbformat": 4,
 "nbformat_minor": 5
}
