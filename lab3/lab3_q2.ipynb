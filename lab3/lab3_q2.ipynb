{
 "cells": [
  {
   "cell_type": "code",
   "execution_count": 1,
   "id": "0f435c7b",
   "metadata": {},
   "outputs": [
    {
     "name": "stdout",
     "output_type": "stream",
     "text": [
      "hello world\n"
     ]
    }
   ],
   "source": [
    "print(\"hello world\")"
   ]
  },
  {
   "cell_type": "code",
   "execution_count": 2,
   "id": "6b15fafe",
   "metadata": {},
   "outputs": [],
   "source": [
    "import numpy as np\n",
    "import pandas as pd\n",
    "import seaborn as sns\n",
    "import matplotlib.pyplot as plt"
   ]
  },
  {
   "cell_type": "code",
   "execution_count": 3,
   "id": "96d8ae37",
   "metadata": {},
   "outputs": [],
   "source": [
    "\n",
    "data = {\n",
    "    'Study Time (hours)': [1, 2, 3, 4, 5, 1.5, 2.5, 3.5, 4.5, 5.5],\n",
    "    'Score (out of 10)': [3, 4, 5, 6, 7, 3.5, 5.5, 6.5, 7.5, 8]\n",
    "}\n",
    "\n",
    "df = pd.DataFrame(data)\n",
    "\n",
    "df.to_csv('Q2_df.csv', index=False)\n"
   ]
  },
  {
   "cell_type": "code",
   "execution_count": 4,
   "id": "b6eea467",
   "metadata": {},
   "outputs": [
    {
     "data": {
      "text/html": [
       "<div>\n",
       "<style scoped>\n",
       "    .dataframe tbody tr th:only-of-type {\n",
       "        vertical-align: middle;\n",
       "    }\n",
       "\n",
       "    .dataframe tbody tr th {\n",
       "        vertical-align: top;\n",
       "    }\n",
       "\n",
       "    .dataframe thead th {\n",
       "        text-align: right;\n",
       "    }\n",
       "</style>\n",
       "<table border=\"1\" class=\"dataframe\">\n",
       "  <thead>\n",
       "    <tr style=\"text-align: right;\">\n",
       "      <th></th>\n",
       "      <th>Study Time (hours)</th>\n",
       "      <th>Score (out of 10)</th>\n",
       "    </tr>\n",
       "  </thead>\n",
       "  <tbody>\n",
       "    <tr>\n",
       "      <th>0</th>\n",
       "      <td>1.0</td>\n",
       "      <td>3.0</td>\n",
       "    </tr>\n",
       "    <tr>\n",
       "      <th>1</th>\n",
       "      <td>2.0</td>\n",
       "      <td>4.0</td>\n",
       "    </tr>\n",
       "    <tr>\n",
       "      <th>2</th>\n",
       "      <td>3.0</td>\n",
       "      <td>5.0</td>\n",
       "    </tr>\n",
       "    <tr>\n",
       "      <th>3</th>\n",
       "      <td>4.0</td>\n",
       "      <td>6.0</td>\n",
       "    </tr>\n",
       "    <tr>\n",
       "      <th>4</th>\n",
       "      <td>5.0</td>\n",
       "      <td>7.0</td>\n",
       "    </tr>\n",
       "    <tr>\n",
       "      <th>5</th>\n",
       "      <td>1.5</td>\n",
       "      <td>3.5</td>\n",
       "    </tr>\n",
       "    <tr>\n",
       "      <th>6</th>\n",
       "      <td>2.5</td>\n",
       "      <td>5.5</td>\n",
       "    </tr>\n",
       "    <tr>\n",
       "      <th>7</th>\n",
       "      <td>3.5</td>\n",
       "      <td>6.5</td>\n",
       "    </tr>\n",
       "    <tr>\n",
       "      <th>8</th>\n",
       "      <td>4.5</td>\n",
       "      <td>7.5</td>\n",
       "    </tr>\n",
       "    <tr>\n",
       "      <th>9</th>\n",
       "      <td>5.5</td>\n",
       "      <td>8.0</td>\n",
       "    </tr>\n",
       "  </tbody>\n",
       "</table>\n",
       "</div>"
      ],
      "text/plain": [
       "   Study Time (hours)  Score (out of 10)\n",
       "0                 1.0                3.0\n",
       "1                 2.0                4.0\n",
       "2                 3.0                5.0\n",
       "3                 4.0                6.0\n",
       "4                 5.0                7.0\n",
       "5                 1.5                3.5\n",
       "6                 2.5                5.5\n",
       "7                 3.5                6.5\n",
       "8                 4.5                7.5\n",
       "9                 5.5                8.0"
      ]
     },
     "execution_count": 4,
     "metadata": {},
     "output_type": "execute_result"
    }
   ],
   "source": [
    "df"
   ]
  },
  {
   "cell_type": "code",
   "execution_count": 27,
   "id": "dcc94a4c",
   "metadata": {},
   "outputs": [],
   "source": [
    "class Model:\n",
    "    def __init__(self):\n",
    "        self.b0 = 1\n",
    "        self.b1 = list()\n",
    "        self.b1.append(2)"
   ]
  },
  {
   "cell_type": "code",
   "execution_count": 28,
   "id": "9ef70ec6",
   "metadata": {},
   "outputs": [],
   "source": [
    "model = Model()"
   ]
  },
  {
   "cell_type": "code",
   "execution_count": 29,
   "id": "693dadd5",
   "metadata": {},
   "outputs": [
    {
     "name": "stdout",
     "output_type": "stream",
     "text": [
      "1\n"
     ]
    }
   ],
   "source": [
    "print(model.b0)"
   ]
  },
  {
   "cell_type": "code",
   "execution_count": 30,
   "id": "39488833",
   "metadata": {},
   "outputs": [],
   "source": [
    "def compute_output(model, train):\n",
    "    train = train.to_numpy()\n",
    "    if train.ndim == 1:\n",
    "        train = train.reshape(-1, 1)\n",
    "    \n",
    "    features = train.shape[1]\n",
    "    \n",
    "    if len(model.b1) != features:\n",
    "        print(\"model inappropriate\")\n",
    "        return\n",
    "    output = []\n",
    "    for j in range(train.shape[0]):\n",
    "        answer = 0\n",
    "        for i in range(features):\n",
    "            answer+= model.b1[i]*train[j][i]\n",
    "        answer += b0\n",
    "        output.append(answer)\n",
    "    return output\n",
    "\n",
    "        "
   ]
  },
  {
   "cell_type": "code",
   "execution_count": 31,
   "id": "49a21b22",
   "metadata": {},
   "outputs": [
    {
     "name": "stdout",
     "output_type": "stream",
     "text": [
      "(10, 2)\n"
     ]
    }
   ],
   "source": [
    "print(df.shape)"
   ]
  },
  {
   "cell_type": "code",
   "execution_count": 32,
   "id": "8baef365",
   "metadata": {},
   "outputs": [],
   "source": [
    "predicted = compute_output(model, df['Study Time (hours)'])"
   ]
  },
  {
   "cell_type": "code",
   "execution_count": 33,
   "id": "3c595aa8",
   "metadata": {},
   "outputs": [
    {
     "name": "stdout",
     "output_type": "stream",
     "text": [
      "[3.0, 5.0, 7.0, 9.0, 11.0, 4.0, 6.0, 8.0, 10.0, 12.0]\n"
     ]
    }
   ],
   "source": [
    "print(predicted)"
   ]
  },
  {
   "cell_type": "code",
   "execution_count": 46,
   "id": "d4941579",
   "metadata": {},
   "outputs": [],
   "source": [
    "import math\n",
    "def rmse(predicted, actual):\n",
    "    i = len(predicted)\n",
    "    tot = 0\n",
    "    for j in range(i):\n",
    "        tot = tot + math.pow((predicted[j] - actual[j]), 2)\n",
    "    tot = math.pow(tot, 0.5)\n",
    "    return tot/i\n"
   ]
  },
  {
   "cell_type": "code",
   "execution_count": 50,
   "id": "a93b611f",
   "metadata": {},
   "outputs": [
    {
     "name": "stdout",
     "output_type": "stream",
     "text": [
      "rmse is:  0.7416198487095663\n"
     ]
    }
   ],
   "source": [
    "print(\"rmse is: \",rmse(predicted, df['Score (out of 10)'].to_numpy()))"
   ]
  },
  {
   "cell_type": "code",
   "execution_count": 51,
   "id": "9a6e3cbf",
   "metadata": {},
   "outputs": [
    {
     "data": {
      "image/png": "[encoded data removed]",
      "text/plain": [
       "<Figure size 1000x600 with 1 Axes>"
      ]
     },
     "metadata": {},
     "output_type": "display_data"
    }
   ],
   "source": [
    "plt.figure(figsize=(10, 6))\n",
    "\n",
    "plt.scatter(df['Study Time (hours)'], df['Score (out of 10)'], color='red', label='Actual Data')\n",
    "\n",
    "plt.plot(df['Study Time (hours)'], predicted, color='blue', label='Fitted Line', linewidth=2)\n",
    "\n",
    "plt.title('Scatter Plot with Fitted Line')\n",
    "plt.xlabel('x')\n",
    "plt.ylabel('y')\n",
    "plt.legend()\n",
    "\n",
    "plt.show()"
   ]
  },
  {
   "cell_type": "code",
   "execution_count": null,
   "id": "cd88c020",
   "metadata": {},
   "outputs": [],
   "source": []
  }
 ],
 "metadata": {
  "kernelspec": {
   "display_name": "Python 3 (ipykernel)",
   "language": "python",
   "name": "python3"
  },
  "language_info": {
   "codemirror_mode": {
    "name": "ipython",
    "version": 3
   },
   "file_extension": ".py",
   "mimetype": "text/x-python",
   "name": "python",
   "nbconvert_exporter": "python",
   "pygments_lexer": "ipython3",
   "version": "3.12.3"
  }
 },
 "nbformat": 4,
 "nbformat_minor": 5
}
