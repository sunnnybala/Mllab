{
 "cells": [
  {
   "cell_type": "markdown",
   "id": "83687992",
   "metadata": {},
   "source": []
  },
  {
   "cell_type": "code",
   "execution_count": 1,
   "id": "dfe2048b",
   "metadata": {},
   "outputs": [],
   "source": [
    "import numpy as np"
   ]
  },
  {
   "cell_type": "code",
   "execution_count": 2,
   "id": "98b5b46e",
   "metadata": {},
   "outputs": [],
   "source": [
    "answer = np.random.randint(30, 41, size=10)\n"
   ]
  },
  {
   "cell_type": "code",
   "execution_count": 3,
   "id": "d8eb03c0",
   "metadata": {},
   "outputs": [
    {
     "data": {
      "text/plain": [
       "array([33, 34, 35, 33, 34, 35, 30, 38, 36, 30])"
      ]
     },
     "execution_count": 3,
     "metadata": {},
     "output_type": "execute_result"
    }
   ],
   "source": [
    "answer"
   ]
  },
  {
   "cell_type": "code",
   "execution_count": null,
   "id": "edc6bbcb",
   "metadata": {},
   "outputs": [],
   "source": []
  }
 ],
 "metadata": {
  "kernelspec": {
   "display_name": "Python 3 (ipykernel)",
   "language": "python",
   "name": "python3"
  },
  "language_info": {
   "codemirror_mode": {
    "name": "ipython",
    "version": 3
   },
   "file_extension": ".py",
   "mimetype": "text/x-python",
   "name": "python",
   "nbconvert_exporter": "python",
   "pygments_lexer": "ipython3",
   "version": "3.12.3"
  }
 },
 "nbformat": 4,
 "nbformat_minor": 5
}
